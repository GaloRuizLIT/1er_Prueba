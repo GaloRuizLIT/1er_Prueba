{
  "nbformat": 4,
  "nbformat_minor": 0,
  "metadata": {
    "colab": {
      "provenance": [],
      "include_colab_link": true
    },
    "kernelspec": {
      "name": "python3",
      "display_name": "Python 3"
    },
    "language_info": {
      "name": "python"
    }
  },
  "cells": [
    {
      "cell_type": "markdown",
      "metadata": {
        "id": "view-in-github",
        "colab_type": "text"
      },
      "source": [
        "<a href=\"https://colab.research.google.com/github/GaloRuizLIT/KOF_G/blob/KOF/Conexion_ADLS_KOF_Equipo1.ipynb\" target=\"_parent\"><img src=\"https://colab.research.google.com/assets/colab-badge.svg\" alt=\"Open In Colab\"/></a>"
      ]
    },
    {
      "cell_type": "code",
      "execution_count": null,
      "metadata": {
        "id": "MF-GsWcwytSM"
      },
      "outputs": [],
      "source": [
        "%pip install azure-storage-file-datalake azure-identity pyarrowfs_adlgen2"
      ]
    },
    {
      "cell_type": "markdown",
      "source": [
        "# Conectar archivos ejemplo"
      ],
      "metadata": {
        "id": "1ay12X0GDyNT"
      }
    },
    {
      "cell_type": "code",
      "source": [
        "import os, uuid, sys\n",
        "from azure.identity import DefaultAzureCredential\n",
        "from azure.storage.filedatalake import DataLakeServiceClient\n",
        "from azure.core._match_conditions import MatchConditions\n",
        "from azure.storage.filedatalake._models import ContentSettings"
      ],
      "metadata": {
        "id": "OO2LM40gyu41"
      },
      "execution_count": null,
      "outputs": []
    },
    {
      "cell_type": "code",
      "source": [
        "def initialize_storage_account(storage_account_name, storage_account_key):\n",
        "    \n",
        "    try:  \n",
        "        global service_client\n",
        "\n",
        "        service_client = DataLakeServiceClient(account_url=\"{}://{}.dfs.core.windows.net\".format(\n",
        "            \"https\", storage_account_name), credential=storage_account_key)\n",
        "    \n",
        "    except Exception as e:\n",
        "        print(e)"
      ],
      "metadata": {
        "id": "DuOzLdADy0tB"
      },
      "execution_count": null,
      "outputs": []
    },
    {
      "cell_type": "code",
      "source": [
        "clave = input(\"Ingresa un token valido de azure: \")"
      ],
      "metadata": {
        "id": "i3Km3KF_trll",
        "colab": {
          "base_uri": "https://localhost:8080/"
        },
        "outputId": "0e1b2833-6103-4177-d551-e8983c0c5f26"
      },
      "execution_count": null,
      "outputs": [
        {
          "name": "stdout",
          "output_type": "stream",
          "text": [
            "Ingresa un token valido de azure: rlZLpZumIt1YJkW/5IGQmOlUSzo4hzOPOY3xIvFoHaY6pZhLj7eAFqp1kAFa1FLjmTfawc9RS2ipGxOTkF66RQ==\n"
          ]
        }
      ]
    },
    {
      "cell_type": "code",
      "source": [
        "initialize_storage_account(\"staccdlaketracanalitqa01\",clave)"
      ],
      "metadata": {
        "id": "oYrrW7Pjy0Wn"
      },
      "execution_count": null,
      "outputs": []
    },
    {
      "cell_type": "code",
      "source": [
        "prueba = service_client.get_file_system_client(\"itesm-kof\")\n",
        "\n",
        "directorio = prueba.get_directory_client(\"datos\")\n",
        "\n",
        "file_client = directorio.get_file_client(\"ejemplo.csv\")\n",
        "\n",
        "download=file_client.download_file()\n",
        "\n",
        "downloaded_bytes = download.readall()\n",
        "\n",
        "with open(\"./ejemplo.csv\", \"wb\") as my_file:\n",
        "    my_file.write(downloaded_bytes)\n",
        "    my_file.close()\n",
        "\n",
        "pd.read_csv(\"ejemplo.csv\")"
      ],
      "metadata": {
        "id": "Ril9id5Cdc8V"
      },
      "execution_count": null,
      "outputs": []
    },
    {
      "cell_type": "markdown",
      "source": [
        "# Conectar parquet ejemplo"
      ],
      "metadata": {
        "id": "OjWonVYhD1XT"
      }
    },
    {
      "cell_type": "code",
      "source": [
        "import azure.identity\n",
        "import pandas as pd\n",
        "import pyarrow.fs\n",
        "import pyarrowfs_adlgen2"
      ],
      "metadata": {
        "id": "QZTFV0CJdUpx"
      },
      "execution_count": null,
      "outputs": []
    },
    {
      "cell_type": "code",
      "source": [
        "handler=pyarrowfs_adlgen2.AccountHandler.from_account_name('staccdlaketracanalitqa01',\"rlZLpZumIt1YJkW/5IGQmOlUSzo4hzOPOY3xIvFoHaY6pZhLj7eAFqp1kAFa1FLjmTfawc9RS2ipGxOTkF66RQ==\")\n",
        "\n",
        "fs = pyarrow.fs.PyFileSystem(handler)\n",
        "\n",
        "df = pd.read_parquet('itesm-kof/datos/CLIENTES_ACTIVOS/MX.parquet', filesystem=fs)"
      ],
      "metadata": {
        "id": "ww650GQ8_ilH"
      },
      "execution_count": null,
      "outputs": []
    },
    {
      "cell_type": "code",
      "source": [
        "df"
      ],
      "metadata": {
        "id": "O3DHgZbTAZVi"
      },
      "execution_count": null,
      "outputs": []
    },
    {
      "cell_type": "code",
      "source": [],
      "metadata": {
        "id": "3L4-Mp_UDQjY"
      },
      "execution_count": null,
      "outputs": []
    }
  ]
}